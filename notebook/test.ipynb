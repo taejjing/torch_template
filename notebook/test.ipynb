{
 "metadata": {
  "language_info": {
   "codemirror_mode": {
    "name": "ipython",
    "version": 3
   },
   "file_extension": ".py",
   "mimetype": "text/x-python",
   "name": "python",
   "nbconvert_exporter": "python",
   "pygments_lexer": "ipython3",
   "version": "3.7.10-final"
  },
  "orig_nbformat": 2,
  "kernelspec": {
   "name": "python3",
   "display_name": "Python 3.7.10 64-bit ('nsfw': conda)",
   "metadata": {
    "interpreter": {
     "hash": "32201cc8e65fddb3251d8cca0c32345c63c98876cfc4adfe523268ce44f0a080"
    }
   }
  }
 },
 "nbformat": 4,
 "nbformat_minor": 2,
 "cells": [
  {
   "cell_type": "code",
   "execution_count": 11,
   "metadata": {},
   "outputs": [],
   "source": [
    "import pandas as pd\n",
    "from sklearn.metrics import confusion_matrix"
   ]
  },
  {
   "cell_type": "code",
   "execution_count": 12,
   "metadata": {},
   "outputs": [
    {
     "output_type": "execute_result",
     "data": {
      "text/plain": [
       "                                                    path  target  predict  \\\n",
       "0              data/safe/0.36-142645829_3_1609945740.jpg       0        0   \n",
       "1      data/not-safe-singleavg/0.58-126245615_3_15930...       1        1   \n",
       "2      data/not-safe-singleavg/0.85-135639202_7_16047...       1        1   \n",
       "3      data/not-safe-singleavg/0.93-139591228_1_16069...       1        1   \n",
       "4      data/not-safe-singleavg/0.66-135203335_4_16061...       1        1   \n",
       "...                                                  ...     ...      ...   \n",
       "14331  data/not-safe-singleavg/0.79-126649727_4_15918...       1        1   \n",
       "14332          data/safe/0.25-142648837_2_1609948385.jpg       0        0   \n",
       "14333          data/safe/0.03-142648703_1_1609948249.jpg       0        0   \n",
       "14334  data/not-safe-singleavg/0.73-137458633_2_16054...       1        1   \n",
       "14335  data/not-safe-singleavg/0.84-123234867_2_15879...       1        1   \n",
       "\n",
       "          score  \n",
       "0      0.339844  \n",
       "1      0.999973  \n",
       "2      0.998262  \n",
       "3      0.999999  \n",
       "4      0.999999  \n",
       "...         ...  \n",
       "14331  1.000000  \n",
       "14332  0.000620  \n",
       "14333  0.000483  \n",
       "14334  1.000000  \n",
       "14335  1.000000  \n",
       "\n",
       "[14336 rows x 4 columns]"
      ],
      "text/html": "<div>\n<style scoped>\n    .dataframe tbody tr th:only-of-type {\n        vertical-align: middle;\n    }\n\n    .dataframe tbody tr th {\n        vertical-align: top;\n    }\n\n    .dataframe thead th {\n        text-align: right;\n    }\n</style>\n<table border=\"1\" class=\"dataframe\">\n  <thead>\n    <tr style=\"text-align: right;\">\n      <th></th>\n      <th>path</th>\n      <th>target</th>\n      <th>predict</th>\n      <th>score</th>\n    </tr>\n  </thead>\n  <tbody>\n    <tr>\n      <th>0</th>\n      <td>data/safe/0.36-142645829_3_1609945740.jpg</td>\n      <td>0</td>\n      <td>0</td>\n      <td>0.339844</td>\n    </tr>\n    <tr>\n      <th>1</th>\n      <td>data/not-safe-singleavg/0.58-126245615_3_15930...</td>\n      <td>1</td>\n      <td>1</td>\n      <td>0.999973</td>\n    </tr>\n    <tr>\n      <th>2</th>\n      <td>data/not-safe-singleavg/0.85-135639202_7_16047...</td>\n      <td>1</td>\n      <td>1</td>\n      <td>0.998262</td>\n    </tr>\n    <tr>\n      <th>3</th>\n      <td>data/not-safe-singleavg/0.93-139591228_1_16069...</td>\n      <td>1</td>\n      <td>1</td>\n      <td>0.999999</td>\n    </tr>\n    <tr>\n      <th>4</th>\n      <td>data/not-safe-singleavg/0.66-135203335_4_16061...</td>\n      <td>1</td>\n      <td>1</td>\n      <td>0.999999</td>\n    </tr>\n    <tr>\n      <th>...</th>\n      <td>...</td>\n      <td>...</td>\n      <td>...</td>\n      <td>...</td>\n    </tr>\n    <tr>\n      <th>14331</th>\n      <td>data/not-safe-singleavg/0.79-126649727_4_15918...</td>\n      <td>1</td>\n      <td>1</td>\n      <td>1.000000</td>\n    </tr>\n    <tr>\n      <th>14332</th>\n      <td>data/safe/0.25-142648837_2_1609948385.jpg</td>\n      <td>0</td>\n      <td>0</td>\n      <td>0.000620</td>\n    </tr>\n    <tr>\n      <th>14333</th>\n      <td>data/safe/0.03-142648703_1_1609948249.jpg</td>\n      <td>0</td>\n      <td>0</td>\n      <td>0.000483</td>\n    </tr>\n    <tr>\n      <th>14334</th>\n      <td>data/not-safe-singleavg/0.73-137458633_2_16054...</td>\n      <td>1</td>\n      <td>1</td>\n      <td>1.000000</td>\n    </tr>\n    <tr>\n      <th>14335</th>\n      <td>data/not-safe-singleavg/0.84-123234867_2_15879...</td>\n      <td>1</td>\n      <td>1</td>\n      <td>1.000000</td>\n    </tr>\n  </tbody>\n</table>\n<p>14336 rows × 4 columns</p>\n</div>"
     },
     "metadata": {},
     "execution_count": 12
    }
   ],
   "source": [
    "test_log = pd.read_csv('../test_logs/test_result')\n",
    "test_log"
   ]
  },
  {
   "cell_type": "code",
   "execution_count": 14,
   "metadata": {},
   "outputs": [
    {
     "output_type": "execute_result",
     "data": {
      "text/plain": [
       "                                                    path  target  predict  \\\n",
       "45              data/safe/0.3-142648033_3_1609947642.jpg       0        1   \n",
       "91             data/safe/0.25-142653230_1_1609953671.jpg       0        1   \n",
       "106            data/safe/0.14-142653652_1_1609954549.jpg       0        1   \n",
       "121            data/safe/0.39-142653941_3_1609955135.jpg       0        1   \n",
       "137            data/safe/0.11-142648516_2_1609948104.jpg       0        1   \n",
       "...                                                  ...     ...      ...   \n",
       "14201          data/safe/0.36-142648152_1_1609947808.jpg       0        1   \n",
       "14233          data/safe/0.28-142651211_5_1609950948.jpg       0        1   \n",
       "14244          data/safe/0.22-142652361_3_1609952363.jpg       0        1   \n",
       "14279  data/not-safe-singleavg/0.81-138617143_4_16060...       1        0   \n",
       "14324          data/safe/0.08-142650007_5_1609949583.jpg       0        1   \n",
       "\n",
       "          score  \n",
       "45     0.952692  \n",
       "91     0.826101  \n",
       "106    0.510233  \n",
       "121    0.998544  \n",
       "137    0.822518  \n",
       "...         ...  \n",
       "14201  0.511093  \n",
       "14233  0.678184  \n",
       "14244  0.979669  \n",
       "14279  0.025952  \n",
       "14324  0.622958  \n",
       "\n",
       "[631 rows x 4 columns]"
      ],
      "text/html": "<div>\n<style scoped>\n    .dataframe tbody tr th:only-of-type {\n        vertical-align: middle;\n    }\n\n    .dataframe tbody tr th {\n        vertical-align: top;\n    }\n\n    .dataframe thead th {\n        text-align: right;\n    }\n</style>\n<table border=\"1\" class=\"dataframe\">\n  <thead>\n    <tr style=\"text-align: right;\">\n      <th></th>\n      <th>path</th>\n      <th>target</th>\n      <th>predict</th>\n      <th>score</th>\n    </tr>\n  </thead>\n  <tbody>\n    <tr>\n      <th>45</th>\n      <td>data/safe/0.3-142648033_3_1609947642.jpg</td>\n      <td>0</td>\n      <td>1</td>\n      <td>0.952692</td>\n    </tr>\n    <tr>\n      <th>91</th>\n      <td>data/safe/0.25-142653230_1_1609953671.jpg</td>\n      <td>0</td>\n      <td>1</td>\n      <td>0.826101</td>\n    </tr>\n    <tr>\n      <th>106</th>\n      <td>data/safe/0.14-142653652_1_1609954549.jpg</td>\n      <td>0</td>\n      <td>1</td>\n      <td>0.510233</td>\n    </tr>\n    <tr>\n      <th>121</th>\n      <td>data/safe/0.39-142653941_3_1609955135.jpg</td>\n      <td>0</td>\n      <td>1</td>\n      <td>0.998544</td>\n    </tr>\n    <tr>\n      <th>137</th>\n      <td>data/safe/0.11-142648516_2_1609948104.jpg</td>\n      <td>0</td>\n      <td>1</td>\n      <td>0.822518</td>\n    </tr>\n    <tr>\n      <th>...</th>\n      <td>...</td>\n      <td>...</td>\n      <td>...</td>\n      <td>...</td>\n    </tr>\n    <tr>\n      <th>14201</th>\n      <td>data/safe/0.36-142648152_1_1609947808.jpg</td>\n      <td>0</td>\n      <td>1</td>\n      <td>0.511093</td>\n    </tr>\n    <tr>\n      <th>14233</th>\n      <td>data/safe/0.28-142651211_5_1609950948.jpg</td>\n      <td>0</td>\n      <td>1</td>\n      <td>0.678184</td>\n    </tr>\n    <tr>\n      <th>14244</th>\n      <td>data/safe/0.22-142652361_3_1609952363.jpg</td>\n      <td>0</td>\n      <td>1</td>\n      <td>0.979669</td>\n    </tr>\n    <tr>\n      <th>14279</th>\n      <td>data/not-safe-singleavg/0.81-138617143_4_16060...</td>\n      <td>1</td>\n      <td>0</td>\n      <td>0.025952</td>\n    </tr>\n    <tr>\n      <th>14324</th>\n      <td>data/safe/0.08-142650007_5_1609949583.jpg</td>\n      <td>0</td>\n      <td>1</td>\n      <td>0.622958</td>\n    </tr>\n  </tbody>\n</table>\n<p>631 rows × 4 columns</p>\n</div>"
     },
     "metadata": {},
     "execution_count": 14
    }
   ],
   "source": [
    "test_log[test_log.target != test_log.predict]"
   ]
  },
  {
   "cell_type": "code",
   "execution_count": 6,
   "metadata": {},
   "outputs": [
    {
     "output_type": "execute_result",
     "data": {
      "text/plain": [
       "                                                    path  target  predict  \\\n",
       "16             data/safe/0.34-142651351_7_1609951082.jpg       0        1   \n",
       "57              data/safe/0.3-142649665_5_1609949224.jpg       0        1   \n",
       "92             data/safe/0.34-142649628_5_1609949180.jpg       0        1   \n",
       "109           data/safe/0.48-142648846_11_1609948455.jpg       0        1   \n",
       "137           data/safe/0.45-142652088_11_1609951998.jpg       0        1   \n",
       "...                                                  ...     ...      ...   \n",
       "13975  data/not-safe-singleavg/0.53-122417684_1_15871...       1        0   \n",
       "14009          data/safe/0.37-142645690_2_1609945718.jpg       0        1   \n",
       "14019          data/safe/0.04-142653208_2_1609954038.jpg       0        1   \n",
       "14046  data/not-safe-singleavg/0.53-121367609_1_15903...       1        0   \n",
       "14061          data/safe/0.34-142651435_6_1609951191.jpg       0        1   \n",
       "\n",
       "          score  \n",
       "16     0.847704  \n",
       "57     0.671811  \n",
       "92     0.731568  \n",
       "109    0.998059  \n",
       "137    0.760687  \n",
       "...         ...  \n",
       "13975  0.134038  \n",
       "14009  0.998017  \n",
       "14019  0.975901  \n",
       "14046  0.387167  \n",
       "14061  0.898706  \n",
       "\n",
       "[619 rows x 4 columns]"
      ],
      "text/html": "<div>\n<style scoped>\n    .dataframe tbody tr th:only-of-type {\n        vertical-align: middle;\n    }\n\n    .dataframe tbody tr th {\n        vertical-align: top;\n    }\n\n    .dataframe thead th {\n        text-align: right;\n    }\n</style>\n<table border=\"1\" class=\"dataframe\">\n  <thead>\n    <tr style=\"text-align: right;\">\n      <th></th>\n      <th>path</th>\n      <th>target</th>\n      <th>predict</th>\n      <th>score</th>\n    </tr>\n  </thead>\n  <tbody>\n    <tr>\n      <th>16</th>\n      <td>data/safe/0.34-142651351_7_1609951082.jpg</td>\n      <td>0</td>\n      <td>1</td>\n      <td>0.847704</td>\n    </tr>\n    <tr>\n      <th>57</th>\n      <td>data/safe/0.3-142649665_5_1609949224.jpg</td>\n      <td>0</td>\n      <td>1</td>\n      <td>0.671811</td>\n    </tr>\n    <tr>\n      <th>92</th>\n      <td>data/safe/0.34-142649628_5_1609949180.jpg</td>\n      <td>0</td>\n      <td>1</td>\n      <td>0.731568</td>\n    </tr>\n    <tr>\n      <th>109</th>\n      <td>data/safe/0.48-142648846_11_1609948455.jpg</td>\n      <td>0</td>\n      <td>1</td>\n      <td>0.998059</td>\n    </tr>\n    <tr>\n      <th>137</th>\n      <td>data/safe/0.45-142652088_11_1609951998.jpg</td>\n      <td>0</td>\n      <td>1</td>\n      <td>0.760687</td>\n    </tr>\n    <tr>\n      <th>...</th>\n      <td>...</td>\n      <td>...</td>\n      <td>...</td>\n      <td>...</td>\n    </tr>\n    <tr>\n      <th>13975</th>\n      <td>data/not-safe-singleavg/0.53-122417684_1_15871...</td>\n      <td>1</td>\n      <td>0</td>\n      <td>0.134038</td>\n    </tr>\n    <tr>\n      <th>14009</th>\n      <td>data/safe/0.37-142645690_2_1609945718.jpg</td>\n      <td>0</td>\n      <td>1</td>\n      <td>0.998017</td>\n    </tr>\n    <tr>\n      <th>14019</th>\n      <td>data/safe/0.04-142653208_2_1609954038.jpg</td>\n      <td>0</td>\n      <td>1</td>\n      <td>0.975901</td>\n    </tr>\n    <tr>\n      <th>14046</th>\n      <td>data/not-safe-singleavg/0.53-121367609_1_15903...</td>\n      <td>1</td>\n      <td>0</td>\n      <td>0.387167</td>\n    </tr>\n    <tr>\n      <th>14061</th>\n      <td>data/safe/0.34-142651435_6_1609951191.jpg</td>\n      <td>0</td>\n      <td>1</td>\n      <td>0.898706</td>\n    </tr>\n  </tbody>\n</table>\n<p>619 rows × 4 columns</p>\n</div>"
     },
     "metadata": {},
     "execution_count": 6
    }
   ],
   "source": [
    "test_log[test_log.target != test_log.predict]"
   ]
  },
  {
   "cell_type": "code",
   "execution_count": 16,
   "metadata": {},
   "outputs": [
    {
     "output_type": "execute_result",
     "data": {
      "text/plain": [
       "array([[6631,  526],\n",
       "       [ 105, 7074]])"
      ]
     },
     "metadata": {},
     "execution_count": 16
    }
   ],
   "source": [
    "confusion_matrix(test_log['target'], test_log['predict'])"
   ]
  },
  {
   "cell_type": "code",
   "execution_count": 67,
   "metadata": {},
   "outputs": [
    {
     "output_type": "execute_result",
     "data": {
      "text/plain": [
       "                                            path  target  predict\n",
       "121    data/safe/0.14-142650026_1_1609949637.jpg       0        1\n",
       "162    data/safe/0.15-142650948_6_1609950590.jpg       0        1\n",
       "191    data/safe/0.22-142651172_6_1609950894.jpg       0        1\n",
       "277    data/safe/0.14-142647165_1_1609947351.jpg       0        1\n",
       "328    data/safe/0.21-142654013_3_1609955185.jpg       0        1\n",
       "...                                          ...     ...      ...\n",
       "14244  data/safe/0.24-142650940_1_1609950582.jpg       0        1\n",
       "14273   data/safe/0.1-142653122_5_1609953483.jpg       0        1\n",
       "14301  data/safe/0.48-142650523_3_1609950155.jpg       0        1\n",
       "14319  data/safe/0.07-142647795_6_1609947431.jpg       0        1\n",
       "14328  data/safe/0.41-142654367_2_1609955850.jpg       0        1\n",
       "\n",
       "[249 rows x 3 columns]"
      ],
      "text/html": "<div>\n<style scoped>\n    .dataframe tbody tr th:only-of-type {\n        vertical-align: middle;\n    }\n\n    .dataframe tbody tr th {\n        vertical-align: top;\n    }\n\n    .dataframe thead th {\n        text-align: right;\n    }\n</style>\n<table border=\"1\" class=\"dataframe\">\n  <thead>\n    <tr style=\"text-align: right;\">\n      <th></th>\n      <th>path</th>\n      <th>target</th>\n      <th>predict</th>\n    </tr>\n  </thead>\n  <tbody>\n    <tr>\n      <th>121</th>\n      <td>data/safe/0.14-142650026_1_1609949637.jpg</td>\n      <td>0</td>\n      <td>1</td>\n    </tr>\n    <tr>\n      <th>162</th>\n      <td>data/safe/0.15-142650948_6_1609950590.jpg</td>\n      <td>0</td>\n      <td>1</td>\n    </tr>\n    <tr>\n      <th>191</th>\n      <td>data/safe/0.22-142651172_6_1609950894.jpg</td>\n      <td>0</td>\n      <td>1</td>\n    </tr>\n    <tr>\n      <th>277</th>\n      <td>data/safe/0.14-142647165_1_1609947351.jpg</td>\n      <td>0</td>\n      <td>1</td>\n    </tr>\n    <tr>\n      <th>328</th>\n      <td>data/safe/0.21-142654013_3_1609955185.jpg</td>\n      <td>0</td>\n      <td>1</td>\n    </tr>\n    <tr>\n      <th>...</th>\n      <td>...</td>\n      <td>...</td>\n      <td>...</td>\n    </tr>\n    <tr>\n      <th>14244</th>\n      <td>data/safe/0.24-142650940_1_1609950582.jpg</td>\n      <td>0</td>\n      <td>1</td>\n    </tr>\n    <tr>\n      <th>14273</th>\n      <td>data/safe/0.1-142653122_5_1609953483.jpg</td>\n      <td>0</td>\n      <td>1</td>\n    </tr>\n    <tr>\n      <th>14301</th>\n      <td>data/safe/0.48-142650523_3_1609950155.jpg</td>\n      <td>0</td>\n      <td>1</td>\n    </tr>\n    <tr>\n      <th>14319</th>\n      <td>data/safe/0.07-142647795_6_1609947431.jpg</td>\n      <td>0</td>\n      <td>1</td>\n    </tr>\n    <tr>\n      <th>14328</th>\n      <td>data/safe/0.41-142654367_2_1609955850.jpg</td>\n      <td>0</td>\n      <td>1</td>\n    </tr>\n  </tbody>\n</table>\n<p>249 rows × 3 columns</p>\n</div>"
     },
     "metadata": {},
     "execution_count": 67
    }
   ],
   "source": [
    "test_log[(test_log.target==0)&(test_log.predict==1)]"
   ]
  },
  {
   "cell_type": "code",
   "execution_count": 20,
   "metadata": {},
   "outputs": [],
   "source": [
    "test_log.to_csv(\"test_log.csv\", index=False)"
   ]
  },
  {
   "cell_type": "code",
   "execution_count": 63,
   "metadata": {},
   "outputs": [],
   "source": [
    "from PIL import Image"
   ]
  },
  {
   "cell_type": "code",
   "execution_count": 44,
   "metadata": {},
   "outputs": [],
   "source": [
    "def show_me_image():\n",
    "    for file in test_log[test_log.target != test_log.predict].path:\n",
    "        data_src = '../'\n",
    "        img = Image.open(data_src + file)\n",
    "\n",
    "        yield img"
   ]
  },
  {
   "cell_type": "code",
   "execution_count": 45,
   "metadata": {},
   "outputs": [],
   "source": [
    "a = show_me_image()"
   ]
  },
  {
   "cell_type": "code",
   "execution_count": 46,
   "metadata": {},
   "outputs": [
    {
     "output_type": "execute_result",
     "data": {
      "text/plain": [
       "<PIL.JpegImagePlugin.JpegImageFile image mode=RGB size=299x299 at 0x7FE328FB2ED0>"
      ],
      "image/png": "[encoded data removed]"
     },
     "metadata": {},
     "execution_count": 46
    }
   ],
   "source": [
    "next(a)"
   ]
  },
  {
   "cell_type": "code",
   "execution_count": 17,
   "metadata": {
    "tags": []
   },
   "outputs": [],
   "source": [
    "import shutil\n",
    "data_src = '../'\n",
    "for row in test_log.values:\n",
    "    if (row[1], row[2]) == (1, 0):\n",
    "        shutil.copy2(data_src + row[0], \"FP/\")\n",
    "    elif (row[1], row[2]) == (0, 1):\n",
    "        shutil.copy2(data_src + row[0], \"FN/\")\n"
   ]
  },
  {
   "cell_type": "code",
   "execution_count": 18,
   "metadata": {},
   "outputs": [
    {
     "output_type": "execute_result",
     "data": {
      "text/plain": [
       "583"
      ]
     },
     "metadata": {},
     "execution_count": 18
    }
   ],
   "source": [
    "len(os.listdir('./FN'))"
   ]
  },
  {
   "cell_type": "code",
   "execution_count": 19,
   "metadata": {},
   "outputs": [
    {
     "output_type": "execute_result",
     "data": {
      "text/plain": [
       "147"
      ]
     },
     "metadata": {},
     "execution_count": 19
    }
   ],
   "source": [
    "len(os.listdir('./FP'))"
   ]
  },
  {
   "cell_type": "code",
   "execution_count": null,
   "metadata": {},
   "outputs": [],
   "source": []
  }
 ]
}